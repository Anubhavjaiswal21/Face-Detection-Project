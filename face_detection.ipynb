{
 "cells": [
  {
   "cell_type": "code",
   "execution_count": 3,
   "id": "056222dc-863e-41e0-9025-d7283ab396e7",
   "metadata": {},
   "outputs": [],
   "source": [
    "import cv2\n"
   ]
  },
  {
   "cell_type": "code",
   "execution_count": 3,
   "id": "914b1c9a-6fa6-4e70-a6b7-3c66a744088d",
   "metadata": {},
   "outputs": [],
   "source": [
    "# Enable camera\n",
    "\n",
    "# video_cap=cv2.VideoCapture(0)\n",
    "# while True:\n",
    "#     ret,video_data=video_cap.read()\n",
    "#     cv2.imshow(\"Video live\",video_data)\n",
    "#     if cv2.waitKey(10)==ord(\"a\"):\n",
    "#         break\n",
    "# video_cap.release()\n",
    "\n"
   ]
  },
  {
   "cell_type": "code",
   "execution_count": 4,
   "id": "19146777-cec6-4068-959b-f0ae0ce7aab3",
   "metadata": {},
   "outputs": [],
   "source": [
    "face_cap=cv2.CascadeClassifier(\"C:/Users/anubh/AppData/Local/Programs/Python/Python311/Lib/site-packages/cv2/data/haarcascade_frontalface_default.xml\")\n",
    "video_cap=cv2.VideoCapture(0)\n",
    "while True:\n",
    "    ret,video_data=video_cap.read()\n",
    "    col=cv2.cvtColor(video_data,cv2.COLOR_BGR2GRAY)\n",
    "    faces=face_cap.detectMultiScale(\n",
    "        col,\n",
    "        scaleFactor=1.1,\n",
    "        minNeighbors=5,\n",
    "        minSize=(30,30),\n",
    "        flags=cv2.CASCADE_SCALE_IMAGE\n",
    "    )\n",
    "    for (x,y,w,h) in faces:\n",
    "        cv2.rectangle(video_data,(x,y),(x+w,y+h),(255,255,255),2)\n",
    "    cv2.imshow(\"Video live\",video_data)\n",
    "    if cv2.waitKey(10)==ord(\"a\"):\n",
    "        break\n",
    "video_cap.release()\n",
    "cv2.destroyAllWindows() "
   ]
  },
  {
   "cell_type": "code",
   "execution_count": null,
   "id": "27d02f0e-3619-4eb5-b5d1-47f86bd09db8",
   "metadata": {},
   "outputs": [],
   "source": []
  }
 ],
 "metadata": {
  "kernelspec": {
   "display_name": "Python 3 (ipykernel)",
   "language": "python",
   "name": "python3"
  },
  "language_info": {
   "codemirror_mode": {
    "name": "ipython",
    "version": 3
   },
   "file_extension": ".py",
   "mimetype": "text/x-python",
   "name": "python",
   "nbconvert_exporter": "python",
   "pygments_lexer": "ipython3",
   "version": "3.11.1"
  }
 },
 "nbformat": 4,
 "nbformat_minor": 5
}
